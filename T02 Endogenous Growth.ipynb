{
 "cells": [
  {
   "cell_type": "markdown",
   "metadata": {},
   "source": [
    "Author:u5938562 Wenjie(Jessie) Zeng"
   ]
  },
  {
   "cell_type": "markdown",
   "metadata": {
    "toc": true
   },
   "source": [
    "<h1>Table of Contents<span class=\"tocSkip\"></span></h1>\n",
    "<div class=\"toc\"><ul class=\"toc-item\"><li><span><a href=\"#An-early-Harrod-Domar-('39,-'46)-endogenous-growth-model\" data-toc-modified-id=\"An-early-Harrod-Domar-('39,-'46)-endogenous-growth-model-1\"><span class=\"toc-item-num\">1&nbsp;&nbsp;</span>An early Harrod-Domar ('39, '46) endogenous growth model</a></span></li><li><span><a href=\"#Computation-and-visualization-exercise\" data-toc-modified-id=\"Computation-and-visualization-exercise-2\"><span class=\"toc-item-num\">2&nbsp;&nbsp;</span>Computation and visualization exercise</a></span></li><li><span><a href=\"#Lucas-'88-meets-Glomm-Ravikumar-'92\" data-toc-modified-id=\"Lucas-'88-meets-Glomm-Ravikumar-'92-3\"><span class=\"toc-item-num\">3&nbsp;&nbsp;</span>Lucas '88 meets Glomm-Ravikumar '92</a></span></li><li><span><a href=\"#Computation-and-visualization-exercise\" data-toc-modified-id=\"Computation-and-visualization-exercise-4\"><span class=\"toc-item-num\">4&nbsp;&nbsp;</span>Computation and visualization exercise</a></span></li></ul></div>"
   ]
  },
  {
   "cell_type": "code",
   "execution_count": 3,
   "metadata": {},
   "outputs": [],
   "source": [
    "%matplotlib inline\n",
    "\n",
    "import numpy as np\n",
    "import matplotlib.pyplot as plt\n",
    "import scipy.optimize as opt\n",
    "import scipy.stats as stats\n",
    "import matplotlib.mlab as mlab   # For plotting given distribution functions\n",
    "from matplotlib.animation import FuncAnimation\n",
    "from IPython.display import HTML\n",
    "from matplotlib import cm"
   ]
  },
  {
   "cell_type": "markdown",
   "metadata": {},
   "source": [
    "# An early Harrod-Domar ('39, '46) endogenous growth model"
   ]
  },
  {
   "cell_type": "markdown",
   "metadata": {},
   "source": [
    "Consider the textbook Solow-Swan growth model (see T01) with Cobb-Douglas production function and a capital income share of total production measured as $0< \\alpha \\leq 1$. Population grows at a constant rate of $n > -1$. Total factor productivity is constant at $A > 0$ and consumers' common marginal propensity to save out of current income is $s \\in (0,1)$.\n",
    "\n",
    "Discuss what happens if we consider the limit of this model at $\\alpha = 1$. *Hint consider the cases $A \\leq 1$ and $A > 1$*.\n",
    "\n",
    "Provide plain-English, economic explanations of your insights."
   ]
  },
  {
   "cell_type": "markdown",
   "metadata": {},
   "source": [
    "# Answer 1 "
   ]
  },
  {
   "cell_type": "markdown",
   "metadata": {},
   "source": [
    "\\begin{equation}\n",
    "y_{t} = A_{t}k_{t}^{\\alpha},\n",
    "k_{t+1} = (1-\\delta)k_{t} + s  A_{t}k_{t}^{\\alpha}.\n",
    "\\end{equation}\n",
    "If $\\alpha = 1$, we have \n",
    "\\begin{equation}\n",
    "y_{t} = A_{t}k_{t}.\n",
    "\\end{equation}\n",
    "\n",
    "$\\alpha$ in this model can be interpreted as the share of capital in GDP, $(1-\\alpha)$ is the share of labor in GDP. GDP totally depends on capital. It basically says the economy uses capital to produce without labor. \n",
    "There is a linear relationship between $y_{t}$ and $k_{t}$ since we assumed that $A_{t}$ doesn't change. \n",
    "\n",
    "Now, we need to find how the sole variable $k_{t}$ change over time,\n",
    "\\begin{equation}\n",
    "k_{t+1} = (1-\\delta)k_{t} + s  A_{t}k_{t},\n",
    "\\end{equation}\n",
    "\\begin{equation}\n",
    "{\\delta}k^{ss} = s  Ak^{ss}.\n",
    "\\end{equation}\n",
    "This equation basically says that the depreciation of the current capital is equal to the saving flow.  \n",
    "\n",
    "\\begin{equation}\n",
    "k_{t+1} - k_{t} = s  Ak_{t} - {\\delta}k_{t}.\n",
    "\\end{equation}\n",
    "This equation means that the change in the capital of the economy is the difference between the depreciation of the current capital and the saving flow. But I cannot derive the steady state level of $k_{t}$ in this way. So I will just show the relationships between $k_{t}$ and $k_{t+1}$, $k_{t}$ and $y_{t}$. Hopefully, I can graph them in jupyter notebook. \n",
    "\n",
    "When $A \\leq 1$, output produced by the economy is less than the capital used. The production line increasingly goes to infinity. \n",
    "When $A>1$, the total factor productivity is better now. Output produced by the economy is greater than the capital used, the production process is more efficient. \n"
   ]
  },
  {
   "cell_type": "markdown",
   "metadata": {},
   "source": [
    "# Computation and visualization exercise"
   ]
  },
  {
   "cell_type": "markdown",
   "metadata": {},
   "source": [
    "I try to show the relationships between $k_{t}$ and $k_{t+1}$, $k_{t}$ and $y_{t}$ in the long run. If these relationships are linear, the graph below basically says that the economy will grow constantly with constantly growing capital in each period. \n",
    "The red line describes the relationship between $k_{t}$ and $k_{t+1}$, the blue line describes the production function. \n",
    "\n",
    "When $A=1.5$, $y_{t}$ is above $k_{t+1}$, implies that the economy produces more than the accumulated capital. The economy is okay. \n",
    "\n",
    "When $A=0.5$, $y_{t}$ is below $k_{t+1}$, implies that the economy produces less than the accumulated capital. The economy is not ideal.\n",
    "\n",
    "In both situations, the steady state only occurs in the inital stage where $k_{t} = k_{t+1} = y_{t}=0$."
   ]
  },
  {
   "cell_type": "code",
   "execution_count": 61,
   "metadata": {},
   "outputs": [],
   "source": [
    "# Parameters\n",
    "ALPHA = 1.0\n",
    "DELTA = 0.1\n",
    "SAVRATE = 0.2\n",
    "A = 1.5       # A>0, I changed A = 0.5 when I draw the second graph.\n",
    "k = 0"
   ]
  },
  {
   "cell_type": "code",
   "execution_count": 62,
   "metadata": {},
   "outputs": [],
   "source": [
    "# production function\n",
    "y_k = lambda x: A*x\n",
    "# print(k)\n",
    "# print(y)\n",
    "# next period capital function\n",
    "knext_k = lambda x: (1-DELTA)*x+SAVRATE*A*x\n",
    "# print(knext(k))\n",
    "# print(type(knext))\n",
    "     \n",
    "# Numerical lower and upper bounds on k\n",
    "kmin = 0.0\n",
    "kmax = 100"
   ]
  },
  {
   "cell_type": "code",
   "execution_count": 63,
   "metadata": {},
   "outputs": [
    {
     "data": {
      "text/plain": [
       "Text(0, 0.5, '$k_{t+1}$, $y_{t}$')"
      ]
     },
     "execution_count": 63,
     "metadata": {},
     "output_type": "execute_result"
    },
    {
     "data": {
      "image/png": "[encoded data removed]",
      "text/plain": [
       "<Figure size 432x288 with 1 Axes>"
      ]
     },
     "metadata": {
      "needs_background": "light"
     },
     "output_type": "display_data"
    }
   ],
   "source": [
    "# When A=1.5 > 1\n",
    "# plot graphs of k_t and k_t+1\n",
    "k_set = np.linspace(kmin, kmax, 100)\n",
    "# print(k_set)\n",
    "k_next = knext(k_set) \n",
    "# print(k_next)\n",
    "y_set = y_k(k_set)\n",
    "# print(y_k)\n",
    "plt.plot(k_set, k_next, 'r-',         # graph of relationship between k_t and k_t+1\n",
    "         k_set, y_set, 'b-' )         # graph of production function\n",
    "plt.xlabel('$k_{t}$')\n",
    "plt.ylabel('$k_{t+1}$, $y_{t}$')\n"
   ]
  },
  {
   "cell_type": "code",
   "execution_count": 60,
   "metadata": {},
   "outputs": [
    {
     "data": {
      "text/plain": [
       "Text(0, 0.5, '$k_{t+1}$, $y_{t}$')"
      ]
     },
     "execution_count": 60,
     "metadata": {},
     "output_type": "execute_result"
    },
    {
     "data": {
      "image/png": "[encoded data removed]",
      "text/plain": [
       "<Figure size 432x288 with 1 Axes>"
      ]
     },
     "metadata": {
      "needs_background": "light"
     },
     "output_type": "display_data"
    }
   ],
   "source": [
    "# When 0< A=0.5 < 1\n",
    "# plot graphs of k_t and k_t+1\n",
    "k_set = np.linspace(kmin, kmax, 100)\n",
    "# print(k_set)\n",
    "k_next = knext(k_set) \n",
    "# print(k_next)\n",
    "y_set = y_k(k_set)\n",
    "# print(y_k)\n",
    "plt.plot(k_set, k_next, 'r-',         # graph of relationship between k_t and k_t+1\n",
    "         k_set, y_set, 'b-' )         # graph of production function\n",
    "plt.xlabel('$k_{t}$')\n",
    "plt.ylabel('$k_{t+1}$, $y_{t}$')"
   ]
  },
  {
   "cell_type": "markdown",
   "metadata": {},
   "source": [
    "# Lucas '88 meets Glomm-Ravikumar '92\n",
    "\n",
    "Do **Question F** from the 2019 Final Exam. You may either submit your work here in a Jupyter Notebook or as a separate, ``LaTeX`` typeset document in ``PDF``.\n",
    "\n",
    "References:\n",
    "\n",
    "* [Lucas (1988)](https://doi.org/10.1016/0304-3932(88)90168-7)\n",
    "\n",
    "* [Glomm and Ravikumar (1992)](https://www.jstor.org/stable/2138689)\n",
    "\n",
    "* [de la Croix and Michel (2002)](https://ebookcentral.proquest.com/lib/anu/detail.action?docID=202147)\n",
    "\n"
   ]
  },
  {
   "cell_type": "markdown",
   "metadata": {},
   "source": [
    "Households. Assume in each period there is a constant population of young people of size one. For each household cohort born at date $ t $, their lifetime payoff depends on their own consumption when young and old, respectively, $ c_t $ and $ d_{t+1} $, and some expenditure on their children's education $ e_t $:\n",
    "\\begin{equation}\n",
    "                     U(c_{t})  +  \\beta U(d_{t+1})  +  \\gamma U(e_{t}) ,    \\beta \\in (0,1) ,  \\gamma>0.     (F.1)\n",
    "\\end{equation} \n",
    "\n",
    "The parameters, $ \\beta $ and $ \\gamma $, respectively, capture household impatience and the degree of altruism towards one's own children. Assume $ U(x)=ln(x) $.\n",
    "    The date  $t$  household faces these budget constraints over their lifetime:\n",
    "    \\begin{equation}\n",
    "        c_{t} + s_{t} + e_{t} = w_{t}h_{t},    (F.2)\n",
    "    \\end{equation}\n",
    "    and \n",
    "    \\begin{equation}\n",
    "        d_{t+1} = R_{t+1}s_{t},  (F.3)\n",
    "    \\end{equation}\n",
    "where $ s_{t} $ is household saving, $ w_{t} $ is a competitive real wage rate, $R_{t+1}$ is a competitive gross return on investment in capital goods. Note that each household has one unit of labor time, but their effective labor supply is $ h_{t}*1 $ units of time.\n",
    "    It takes time for current educational investment $e_{t}$ to be embodied in next-period children $(h_{t})$. Suppose the evolution (or production) of within-household human capital follows the non-homogenous difference equation:\n",
    "    \\begin{equation}\n",
    "        h_{t+1} = Ae_{t}^{\\theta}h_{t}^{1-\\theta}, {\\theta} \\in (0,1), A>0. (F.4)\n",
    "    \\end{equation}\n",
    "\n",
    "Firm. A representative firm produces a final good using the technology:\n",
    "    \\begin{equation}\n",
    "        f(k_{t}):= Zk_{t}^{\\alpha},  {\\alpha} \\in (0,1), Z>0.  (F.5)\n",
    "    \\end{equation}\n",
    "The variable $k_{t}:=K_{t}/H_{t}$ is the aggregate capital-to-efficient-labor ratio. Profit maximization gives the firm's optimal demand for effective labor and capital, respectively, as \n",
    "    \\begin{equation}\n",
    "        w_{t}=f(k_{t})-k_{t}f'(k_{t}), (F.6)\n",
    "    \\end{equation}\n",
    "and, \n",
    "    \\begin{equation}\n",
    "        R_{t}=f'(k_{t}).  (F.7)\n",
    "    \\end{equation}\n",
    "\n",
    "Aggregation and market clearing. Let the cumulative probability distribution function over human capital across households at date $t$ be $M_{t}:R_{++}{\\mapsto}[0,1]$. The function $M_{t}$ is non-decreasing, with $M_{t}(0^{+})=0$ and $M_{t}(+{\\infty})=1$, where $0^{+}:=lim_h{\\rightarrow}0h$. Let the distribution of the logarithm of $h_{t}$ be given by the cumulative probability distribution functin $\\mu_{t}$. There is a bijection such that\n",
    "    \\begin{equation}\n",
    "        \\mu_{t}(ln(h_{t}))=M_{t}(h_{t}).  (F.8)\n",
    "    \\end{equation}\n",
    "Assume that the initial distribution of agents, $\\mu_0$, has variance $\\delta_0>0$.\n",
    "    Thus, we can account for the aggregate level of human capital through labor market clearing:\n",
    "    \\begin{equation}\n",
    "        H_{t}:= {\\int}e^{ln(h_{t})}d\\mu_{t}(ln(h_{t})). (F.9)\n",
    "    \\end{equation}\n",
    "    Capital market clearing is summarized by\n",
    "    \\begin{equation}\n",
    "        K_{t+1}:= {\\int}e^{ln(s_{t})}d\\mu_{t}(ln(h_{t})). (F.10)\n",
    "    \\end{equation}\n",
    "    \n",
    "Self-funding of education. Assume that education is privately funded within each household."
   ]
  },
  {
   "cell_type": "markdown",
   "metadata": {},
   "source": [
    "1.Derive the optimal saving supply and education demand by each current household.\n",
    "Hint: Write these down as explicit function of their current income."
   ]
  },
  {
   "cell_type": "markdown",
   "metadata": {},
   "source": [
    "# Ansewer 2.1"
   ]
  },
  {
   "cell_type": "markdown",
   "metadata": {},
   "source": [
    "From budget constraint, we have $ s_{t} = w_{t}h_{t}-c_{t}-e_{t} $; and $ e_{t} = w_{t}h_{t}-c_{t}-s_{t} $.\n",
    "The income of one household is $w_{t}h_{t}$.\n",
    "We can find the optimal saving supply and education demand by takeing the first order conditions.\n",
    "The utility function of one household is: $U=ln(c_{t})+{\\beta}ln(d_{t+1})+{\\gamma}ln(e_{t})$.\n",
    "\n",
    "To find the optimal saving supply and education demand, we can find the fraction of comsumption of young and old and education demand in one household's income by taking derivatives of utility function to equal to zero. \n",
    "\n",
    "\\begin{equation}\n",
    "    \\frac{\\partial U}{\\partial c_{t}}=1;\n",
    "\\end{equation}\n",
    "\\begin{equation}\n",
    "    \\frac{\\partial U}{\\partial d_{t+1}}={\\beta};\n",
    "\\end{equation}\n",
    "\\begin{equation}\n",
    "    \\frac{\\partial U}{\\partial e_{t}}={\\gamma}.\n",
    "\\end{equation}\n",
    "The fractin of savings in income is $ {\\beta}/(1+{\\beta}+{\\gamma}) $, the fraction of education spending in income is $ {\\gamma}/(1+{\\beta}+{\\gamma})$.\n",
    "Thereore, the first order conditions lead to:\n",
    "\\begin{equation}\n",
    "    s_{t}= \\frac{\\beta}{1+{\\beta}+{\\gamma}}w_{t}h_{t};\n",
    "\\end{equation}\n",
    "\\begin{equation}\n",
    "    e_{t}= \\frac{\\gamma}{1+{\\beta}+{\\gamma}}w_{t}h_{t}.\n",
    "\\end{equation}\n"
   ]
  },
  {
   "cell_type": "code",
   "execution_count": null,
   "metadata": {},
   "outputs": [],
   "source": []
  },
  {
   "cell_type": "markdown",
   "metadata": {},
   "source": [
    "2.Show that in an equilibrium growth in individual human capital is identical across individuals:\n",
    "    \\begin{equation}\n",
    "     \\frac{h_{t+1}}{h_{t}}=A(\\frac{\\gamma}{1+\\beta+\\gamma}w_{t})^{\\theta}.\n",
    "    \\end{equation}"
   ]
  },
  {
   "cell_type": "markdown",
   "metadata": {},
   "source": [
    "# Answer 2.2"
   ]
  },
  {
   "cell_type": "markdown",
   "metadata": {},
   "source": [
    "Replace the $e_{t}$ by the result from Answer 2.1 in the production function $h_{t+1}=Ae_{t}^{\\theta}h_{t}^{1-\\theta}$, we have\n",
    "\n",
    "\\begin{equation}\n",
    "    h_{t+1}=A(\\frac{\\gamma}{1+{\\beta}+{\\gamma}}w_{t}h_{t})^{\\theta}h_{t}^{1-\\theta}=A(\\frac{\\gamma}{1+{\\beta}+{\\gamma}}w_{t})^{\\theta}h_{t}\n",
    "\\end{equation}\n",
    "\n",
    "Therefore,\n",
    "\\begin{equation}\n",
    "    \\frac{h_{t+1}}{h_{t}}=A(\\frac{\\gamma}{1+{\\beta}+{\\gamma}}w_{t})^{\\theta}.\n",
    "\\end{equation}"
   ]
  },
  {
   "cell_type": "code",
   "execution_count": null,
   "metadata": {},
   "outputs": [],
   "source": []
  },
  {
   "cell_type": "markdown",
   "metadata": {},
   "source": [
    "3.The last result implies that the growth rate of average human capital is:\n",
    "\n",
    "\\begin{equation}\n",
    "    \\frac {H_{t+1}}{H_{t}}={\\kappa}w_{t}^{\\theta}, \\kappa:=A(\\frac {\\gamma}{1+{\\beta}+{\\gamma}})^{\\theta}. (F.11)\n",
    "\\end{equation}\n",
    "\n",
    "Now show that capital per efficient units of workers follows this recursion:\n",
    "\\begin{equation}\n",
    "    k_{t+1}=(\\frac {\\beta}{(1+\\beta+\\gamma)\\kappa})((1-\\alpha)Zk_{t}^{\\alpha})^{1-\\theta}, \\kappa:=A(\\frac {\\gamma}{1+{\\beta}+{\\gamma}})^{\\theta}. (F.12)\n",
    "\\end{equation}\n",
    "\n",
    "Then argue that there is a unique steady state equilibrium in terms of the relative prices $(w, R)$ and allocation (in terms of the $K/H$ ratio)$k$.\n",
    "$Hint$: Capital market clearing (F.10) iimplies $K_{t+1}=(\\frac {\\beta}{1+\\beta+\\gamma})w_{t}H_{t}$."
   ]
  },
  {
   "cell_type": "markdown",
   "metadata": {},
   "source": [
    "# Answer 2.3"
   ]
  },
  {
   "cell_type": "markdown",
   "metadata": {},
   "source": [
    "According to chapter 5 in 'A Theory of Economic Growth: Dynamics and Policy in Overlapping Generations' by David de la Croix, and Philippe Michel,\n",
    "\n",
    "Profit maximization gives optimal demand for effective labor and capital:\n",
    "\\begin{equation}\n",
    "    w_{t} = f(k_{t})-k_{t}f'(k_{t});\n",
    "    R_{t} = f'(k_{t})\n",
    "\\end{equation}\n",
    "where $k_{t}=\\frac{K_{t}}{H_{t}}$\n",
    "This implies that the price should be equal to the marginal productivity of labor. \n",
    "\n",
    "Capital market clearing(F.10):\n",
    "    \\begin{equation}\n",
    "        K_{t+1}:= {\\int}e^{ln(s_{t})}d\\mu_{t}(ln(h_{t})). (F.10)\n",
    "    \\end{equation}\n",
    "\\begin{equation}\n",
    " e^{ln(s_{t})}=s_{t},\n",
    " s_{t}= \\frac{\\beta}{1+{\\beta}+{\\gamma}}w_{t}h_{t}.\n",
    "\\end{equation}\n",
    "Hint leads to, \n",
    "\\begin{equation}\n",
    "K_{t+1}=(\\frac {\\beta}{1+\\beta+\\gamma})w_{t}H_{t},\n",
    "H_{t}=\\frac {H_{t+1}}{{\\kappa}w_{t}^\\theta},\n",
    "\\end{equation}\n",
    "\n",
    "\\begin{equation}\n",
    "k_{t+1}=\\frac {K_{t+1}}{H_{t+1}}=(\\frac {\\beta}{(1+\\beta+\\gamma)\\kappa})w_{t}^{1-\\theta}.\n",
    "\\end{equation}\n",
    "Then,\n",
    "\\begin{equation}\n",
    "  f(k_{t}):=Zk_{t}^{\\alpha}, f'(k_{t})={\\alpha}Zk^{\\alpha-1};\n",
    "\\end{equation}\n",
    "\n",
    "\\begin{equation}\n",
    "   w_{t}=(1-\\alpha)Zk_{t}^{\\alpha}\n",
    "\\end{equation}\n",
    "\n",
    "\\begin{equation}\n",
    "  k_{t+1}=(\\frac {\\beta}{(1+\\beta+\\gamma)\\kappa})((1-\\alpha)Zk_{t}^{\\alpha})^{1-\\theta}.\n",
    "\\end{equation}\n",
    "\n",
    "According to the assumptions in the reference, the dynamics in $k$ are monotonic and bounded, thus converging to a steady state $k_{\\infty}$, the wage per unit human capital $w_{t}$ converges to $w_{\\infty}=w(k_{\\infty})$.\n",
    "I may want to use computation to show the possible equilibrium with some default data, hope I can do that.  "
   ]
  },
  {
   "cell_type": "code",
   "execution_count": null,
   "metadata": {},
   "outputs": [],
   "source": []
  },
  {
   "cell_type": "markdown",
   "metadata": {},
   "source": [
    "4.$Hint$: Consider a log-linear process:\n",
    "\\begin{equation}\n",
    "x_{t+1}=\\rho_{t}x_{t}+v_{t}.\n",
    "\\end{equation}\n",
    "where $x_{t}:=ln(y_{t})$ is distributed according to the distribution function $\\mu_{t}$, and, $v_{t}$ is a given process that is independent of $x_{t}$.\n",
    "\n",
    "Assume $\\mu_{t}$ is characterized by its first two moments: mean and variance. Then the mean and variance of $x_{t}$, respectively $\\bar x_{t}$ and $\\delta_{t}^2$, will evolve according to\n",
    "\\begin{equation}\n",
    "    \\bar x_{t}=\\rho_{t}\\bar x_{t}+v_{t},\n",
    "\\end{equation}\n",
    "and\n",
    "\\begin{equation}\n",
    "    \\delta_{t+1}^2=\\rho_{t}^2{\\delta_{t}^2}.\n",
    "\\end{equation}\n",
    "\n",
    "Let $l_{t}:=ln(h_{t})$, and $\\bar l_{t}:=\\int l_{t}d\\mu_{t}(l_{t})$. Derive the dynamics of distribution of the logarithm of human capital in terms of its mean and variance dynamics. What happens to labor-income and capital-income inequality (in terms of variance) over time, as $t \\rightarrow \\infty$?\n",
    "\n",
    "$More hints$: The dynamics of $k_{t}$ is monotone and converges to the unique steady state from any initial state, as  $t \\rightarrow \\infty$. Utilize your workings from sub-queation 2 earlier."
   ]
  },
  {
   "cell_type": "code",
   "execution_count": 82,
   "metadata": {},
   "outputs": [],
   "source": [
    "def simulate_ar1(RHO, V, T=20, simulation=\"stochastic\", DateShock=1, ShockUnit=1.0):\n",
    "    if simulation == \"stochastic\":\n",
    "        x = np.random.randn(T)\n",
    "    elif simulation == \"deterministic\":\n",
    "        x = np.zeros(T)\n",
    "        x[DateShock] = ShockUnit\n",
    "    xnext = np.zeros(T) \n",
    "    xnext[0] = 0.0\n",
    "    for t in np.arange(T-1):\n",
    "        xnext[t+1] = RHO*xnext[t] + SIGMA*x[t+1]\n",
    "    return xnext,x"
   ]
  },
  {
   "cell_type": "markdown",
   "metadata": {},
   "source": [
    "# Answer 2.4"
   ]
  },
  {
   "cell_type": "markdown",
   "metadata": {},
   "source": [
    "Recall answer from 2.2,\n",
    "\\begin{equation}\n",
    "    \\frac{h_{t+1}}{h_{t}}={\\kappa}w_{t}^{\\theta}, \\kappa:=A(\\frac {\\gamma}{1+{\\beta}+{\\gamma}})^{\\theta}.\n",
    "\\end{equation}\n",
    "Take logarithm of both sides of this equation,\n",
    "\\begin{equation}\n",
    "    ln(\\frac {h_{t+1}}{h_{t}})=ln\\kappa+{\\theta}lnw_{t},\n",
    "\\end{equation}\n",
    "\\begin{equation}\n",
    "    ln(h_{t+1}) = ln(h_{t})+ln\\kappa+{\\theta}lnw_{t}.\n",
    "\\end{equation}\n",
    "Since,\n",
    "\\begin{equation}\n",
    "        \\mu_{t}(ln(h_{t}))=M_{t}(h_{t}).  (F.8)\n",
    "\\end{equation}\n",
    "we have\n",
    "\\begin{equation}\n",
    "        \\mu_{t+1}=\\mu_{t}+ln\\kappa+{\\theta}lnw_{t}.\n",
    "\\end{equation}\n",
    "Therefore, $\\rho_{t}=1$ in this case, and\n",
    "\\begin{equation}\n",
    "    \\delta_{t+1}^2=\\delta_{t}^2=\\delta_0^2.\n",
    "\\end{equation}\n",
    "\n",
    "\n"
   ]
  },
  {
   "cell_type": "code",
   "execution_count": null,
   "metadata": {},
   "outputs": [],
   "source": []
  },
  {
   "cell_type": "markdown",
   "metadata": {},
   "source": [
    "Public funding of education. Consider now, education being provided publicly and financed through taxation of aggregate wage income:\n",
    "\\begin{equation}\n",
    "e_{t}=\\tau_{t}w_{t}H_{t}. (F.13)\n",
    "\\end{equation} \n",
    "\n",
    "That is, $e_{t}$ is no longer a choice variable for individual households. Equation (F.2) becomes\n",
    "\\begin{equation}\n",
    "c_{t}+s_{t}=(1-\\tau_{t})w_{t}h_{t}. (F.14)\n",
    "\\end{equation}"
   ]
  },
  {
   "cell_type": "markdown",
   "metadata": {},
   "source": [
    "5.Answer these questions:\n",
    "\n",
    "(a)Show that the optimal saving function of a household is now\n",
    "\\begin{equation}\n",
    "s_{t}=(\\frac {\\beta}{1+\\beta})(1-\\tau_{t})w_{t}h_{t}. (F.15)\n",
    "\\end{equation}\n",
    "\n",
    "(b)Using the result, derive what is each household's equilibrium preferred tax rate. $Hint$: Imagine if the household were a dictator, what tax rate would it choose to maximize its own welfare criterion?\n",
    "\n",
    "(c)By the median voter theorem, the voting equilibrium implements the policy preferred by a median voter/household. In this model, the median-preferred policy is $\\tau_{t}=\\gamma/(1+\\beta+\\gamma)$. Explain why.\n"
   ]
  },
  {
   "cell_type": "markdown",
   "metadata": {},
   "source": [
    "# Answer 2.5"
   ]
  },
  {
   "cell_type": "markdown",
   "metadata": {},
   "source": [
    "(a)\n",
    "The utility function of one household is: $U=ln(c_{t})+{\\beta}ln(d_{t+1})+{\\gamma}ln(e_{t})$, where $e_{t}=\\tau_{t}w_{t}H_{t}$. \n",
    "The after-tax income of one household is $(1-\\tau_{t})w_{t}h_{t}$.\n",
    "The fraction of saving in the after-tax income is $\\beta/(1+\\beta)$. \n",
    "Therefore, we have\n",
    "\\begin{equation}\n",
    "    s_{t}=(\\frac {\\beta}{1+\\beta})(1-\\tau_{t})w_{t}h_{t}. \n",
    "\\end{equation}\n"
   ]
  },
  {
   "cell_type": "markdown",
   "metadata": {},
   "source": [
    "(b)\n",
    "Write the utility function as\n",
    "\\begin{equation}\n",
    "    U = ln(w_{t}h_{t}-s_{t}-e_{t})+{\\beta}ln(R_{t+1}s_{t})+{\\gamma}ln(\\bar e_{t}).\n",
    "\\end{equation}\n",
    "According to reference, after substituion, we can have\n",
    "\\begin{equation}\n",
    "    U =（1+\\beta)ln(1-\\tau_{t})+{\\gamma}ln(\\tau_{t}).\n",
    "\\end{equation}\n",
    "Take FOC of the utility function,\n",
    "\\begin{equation}\n",
    "    \\frac {\\partial U}{\\tau_{t}}= \\frac{-(1+\\beta)}{1-\\tau_{t}} + \\frac {\\gamma}{\\tau_{t}}=0\n",
    "\\end{equation}\n",
    "The equilibrium preferred tax rate is:\n",
    "\\begin{equation}\n",
    "    {\\tau_{t}} = \\frac {\\gamma}{1+\\beta+\\gamma}.\n",
    "\\end{equation}\n"
   ]
  },
  {
   "cell_type": "markdown",
   "metadata": {},
   "source": [
    "(c)Because the tax rate is determined by the majority of voters. \n"
   ]
  },
  {
   "cell_type": "code",
   "execution_count": null,
   "metadata": {},
   "outputs": [],
   "source": []
  },
  {
   "cell_type": "markdown",
   "metadata": {},
   "source": [
    "6.Using the last result from the last sub-question:\n",
    "\n",
    "(a)Show that the logarithm of individual human capital evolves according to \n",
    "\\begin{equation}\n",
    "h_{t+1}={\\kappa}w_{t}^{\\theta}H_{t}^{\\theta}h_{t}^{1-\\theta}. (F.16)\n",
    "\\end{equation}\n",
    "\n",
    "(b)Derive the equlibrium evolution of the distribution of log human capital (again, in terms of mean and variance dynamics).\n",
    "\n",
    "\n",
    "(c)Compare your result here with that of the earlier economy without government financing of education as a public good. What can you say specifically about inequality of labor and capital incomes here?\n",
    "\n",
    "For technical reasons, assume that the initial support of $\\mu_{0}$ is a compact set $[l_{0}^{min},l_{0}^{max}]\\subset(0,\\infty)$."
   ]
  },
  {
   "cell_type": "markdown",
   "metadata": {},
   "source": [
    "# Answer 2.6"
   ]
  },
  {
   "cell_type": "markdown",
   "metadata": {},
   "source": [
    "(a)Recall the result from 2.5(b),\n",
    "\\begin{equation}\n",
    "    {\\tau_{t}} = \\frac {\\gamma}{1+\\beta+\\gamma}.\n",
    "\\end{equation}\n",
    "We know that $e_{t}={\\tau_{t}}w_{t}H_{t}$, and $h_{t+1}=Ae_{t}^{\\theta}h_{t}^{1-\\theta}$.\n",
    "After substitution, we have\n",
    "\\begin{equation}\n",
    "    h_{t+1}=A(\\frac {\\gamma}{1+\\beta+\\gamma})^{\\theta}w_{t}^{\\theta}H_{t}^{\\theta}h_{t}^{1-\\theta},\n",
    "\\end{equation}\n",
    "\\begin{equation}\n",
    "    \\kappa:=A(\\frac {\\gamma}{1+\\beta+\\gamma})^{\\theta},\n",
    "\\end{equation}\n",
    "Therefore, we have\n",
    "\\begin{equation}\n",
    "    h_{t+1}={\\kappa}w_{t}^{\\theta}H_{t}^{\\theta}h_{t}^{1-\\theta}.\n",
    "\\end{equation}\n",
    "\n"
   ]
  },
  {
   "cell_type": "markdown",
   "metadata": {},
   "source": [
    "(b)Take logarithm of both sides of this equation,\n",
    "\\begin{equation}\n",
    "     h_{t+1}={\\kappa}w_{t}^{\\theta}H_{t}^{\\theta}h_{t}^{1-\\theta},\n",
    "\\end{equation}\n",
    "we have\n",
    "\\begin{equation}\n",
    "    l_{t+1}=(1-\\theta)l_{t}+ln({\\kappa}w_{t}^{\\theta}H_{t}^{\\theta}).\n",
    "\\end{equation}\n",
    "From previous part,\n",
    "\\begin{equation}\n",
    "        \\mu_{t}(ln(h_{t}))=M_{t}(h_{t}).  (F.8)\n",
    "\\end{equation}\n",
    "so\n",
    "\\begin{equation}\n",
    "        \\mu_{t+1}=(1-\\theta)\\mu_{t}+ln({\\kappa}w_{t}^{\\theta}H_{t}^{\\theta}).\n",
    "\\end{equation}\n",
    "Therefore, $\\rho_{t}=1$ in this case, and\n",
    "\\begin{equation}\n",
    "    \\delta_{t+1}^2=(1-\\theta)^2\\delta_{t}^2.\n",
    "\\end{equation}"
   ]
  },
  {
   "cell_type": "markdown",
   "metadata": {},
   "source": [
    "(c)In the public funding education case, the variance tends to go to zero, the inequality disappears. "
   ]
  },
  {
   "cell_type": "code",
   "execution_count": null,
   "metadata": {},
   "outputs": [],
   "source": []
  },
  {
   "cell_type": "markdown",
   "metadata": {},
   "source": [
    "# Computation and visualization exercise\n",
    "\n",
    "Revisit your work in the last Assignment and code up the two cases of dynamic equilibria (under privately-funded and publicly funded human-capital investment)."
   ]
  },
  {
   "cell_type": "code",
   "execution_count": 5,
   "metadata": {},
   "outputs": [],
   "source": [
    "# Parameters\n",
    "BETA = 0.5\n",
    "GAMMA = 0.5\n",
    "DELTA = 1\n",
    "THETA = 0.6\n",
    "RHO = 0\n",
    "ALPHA = 0.5\n",
    "Z = 5\n",
    "A = 1\n"
   ]
  },
  {
   "cell_type": "code",
   "execution_count": null,
   "metadata": {},
   "outputs": [],
   "source": [
    "# Simulation of endogenous variables\n",
    "T = 20\n",
    "k = np.random.randn(T)\n",
    "h = np.random.randn(T)\n",
    "print(k)\n",
    "print(h)"
   ]
  },
  {
   "cell_type": "code",
   "execution_count": null,
   "metadata": {},
   "outputs": [],
   "source": [
    "'''The private funding education case'''\n",
    "# The profit maxmization gives optimal demand for effective labor & capital\n",
    "f_k = Z*k**ALPHA\n",
    "f_derivative = ALPHA*Z*k**(ALPHA-1)\n",
    "WAGE = f_k - k*f_derivative\n",
    "RENT = f_derivative\n",
    "print('Wage:', WAGE,\n",
    "      'Rent:', RENT)\n",
    "\n",
    "kappa = A*(GAMMA/(1+BETA+GAMMA))**THETA \n",
    "print(type(kappa_theta))\n",
    "\n",
    "# The equilibrium growth in human capital \n",
    "hprivate_rate = A*((GAMMA/(1+BETA+GAMMA)*WAGE)**THETA)\n",
    "print('growth in human capital:', hprivate_rate)\n",
    "hpublic_rate = kappa*(WAGE**THETA)*(H**THETA)/(h**THETA) # H is not defined because I am confused about the relationship between H AND h.\n",
    "print('growth in human capital:', hpublic_rate)\n",
    "\n",
    "\n",
    "# Use lambda function\n",
    "hnext_hprivate = lambda x: hprivate_rate*x \n",
    "hnext_hpublic = lambda x: hpublic_rate*x\n",
    "\n",
    "\n",
    "# The optimal values of saving and education spending\n",
    "SAVING = (BETA/(1+BETA+GAMMA))*WAGE*h\n",
    "EDUCATION = (GAMMA/(1+BETA+GAMMA))*WAGE*h\n",
    "print('saving:', SAVING,\n",
    "      'education spending:', EDUCATION)\n"
   ]
  },
  {
   "cell_type": "code",
   "execution_count": 2,
   "metadata": {},
   "outputs": [],
   "source": [
    "# Plot the graph of the human capital distributions of private and public funding education \n",
    "plt.plot(h, hnext_hprivate(h), 'b-',      # the human capital distribution in private funding case \n",
    "         h, hnext_hpublic(h), 'r-')       # the human capital distribution in public funding case "
   ]
  },
  {
   "cell_type": "code",
   "execution_count": null,
   "metadata": {},
   "outputs": [],
   "source": []
  }
 ],
 "metadata": {
  "kernelspec": {
   "display_name": "Python 3",
   "language": "python",
   "name": "python3"
  },
  "language_info": {
   "codemirror_mode": {
    "name": "ipython",
    "version": 3
   },
   "file_extension": ".py",
   "mimetype": "text/x-python",
   "name": "python",
   "nbconvert_exporter": "python",
   "pygments_lexer": "ipython3",
   "version": "3.8.5"
  },
  "latex_envs": {
   "LaTeX_envs_menu_present": true,
   "autoclose": false,
   "autocomplete": true,
   "bibliofile": "biblio.bib",
   "cite_by": "apalike",
   "current_citInitial": 1,
   "eqLabelWithNumbers": true,
   "eqNumInitial": 1,
   "hotkeys": {
    "equation": "Ctrl-E",
    "itemize": "Ctrl-I"
   },
   "labels_anchors": false,
   "latex_user_defs": false,
   "report_style_numbering": false,
   "user_envs_cfg": false
  },
  "toc": {
   "base_numbering": 1,
   "nav_menu": {},
   "number_sections": true,
   "sideBar": false,
   "skip_h1_title": false,
   "title_cell": "Table of Contents",
   "title_sidebar": "Contents",
   "toc_cell": true,
   "toc_position": {},
   "toc_section_display": true,
   "toc_window_display": true
  }
 },
 "nbformat": 4,
 "nbformat_minor": 5
}
